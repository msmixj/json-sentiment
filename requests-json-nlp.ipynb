{
 "cells": [
  {
   "cell_type": "markdown",
   "metadata": {},
   "source": [
    "# Web Mining and Applied NLP (44-620)\n",
    "\n",
    "## Requests, JSON, and NLP\n",
    "\n",
    "### Student Name: Susie Smith, GitHub Repo: https://github.com/msmixj/json-sentiment \n",
    "Perform the tasks described in the Markdown cells below.  When you have completed the assignment make sure your code cells have all been run (and have output beneath them) and ensure you have committed and pushed ALL of your changes to your assignment repository.\n",
    "\n",
    "Make sure you have [installed spaCy and its pipeline](https://spacy.io/usage#quickstart) and [spaCyTextBlob](https://spacy.io/universe/project/spacy-textblob)\n",
    "\n",
    "Every question that requires you to write code will have a code cell underneath it; you may either write your entire solution in that cell or write it in a python file (`.py`), then import and run the appropriate code to answer the question.\n",
    "\n",
    "This assignment requires that you write additional files (either JSON or pickle files); make sure to submit those files in your repository as well."
   ]
  },
  {
   "cell_type": "code",
   "execution_count": 4,
   "metadata": {},
   "outputs": [
    {
     "name": "stdout",
     "output_type": "stream",
     "text": [
      "Requirement already satisfied: spacytextblob in c:\\users\\15152\\ds-venv\\lib\\site-packages (4.0.0)Note: you may need to restart the kernel to use updated packages.\n",
      "\n",
      "Requirement already satisfied: spacy<4.0,>=3.0 in c:\\users\\15152\\ds-venv\\lib\\site-packages (from spacytextblob) (3.7.4)\n",
      "Requirement already satisfied: textblob<0.16.0,>=0.15.3 in c:\\users\\15152\\ds-venv\\lib\\site-packages (from spacytextblob) (0.15.3)\n",
      "Requirement already satisfied: spacy-legacy<3.1.0,>=3.0.11 in c:\\users\\15152\\ds-venv\\lib\\site-packages (from spacy<4.0,>=3.0->spacytextblob) (3.0.12)\n",
      "Requirement already satisfied: spacy-loggers<2.0.0,>=1.0.0 in c:\\users\\15152\\ds-venv\\lib\\site-packages (from spacy<4.0,>=3.0->spacytextblob) (1.0.5)\n",
      "Requirement already satisfied: murmurhash<1.1.0,>=0.28.0 in c:\\users\\15152\\ds-venv\\lib\\site-packages (from spacy<4.0,>=3.0->spacytextblob) (1.0.10)\n",
      "Requirement already satisfied: cymem<2.1.0,>=2.0.2 in c:\\users\\15152\\ds-venv\\lib\\site-packages (from spacy<4.0,>=3.0->spacytextblob) (2.0.8)\n",
      "Requirement already satisfied: preshed<3.1.0,>=3.0.2 in c:\\users\\15152\\ds-venv\\lib\\site-packages (from spacy<4.0,>=3.0->spacytextblob) (3.0.9)\n",
      "Requirement already satisfied: thinc<8.3.0,>=8.2.2 in c:\\users\\15152\\ds-venv\\lib\\site-packages (from spacy<4.0,>=3.0->spacytextblob) (8.2.3)\n",
      "Requirement already satisfied: wasabi<1.2.0,>=0.9.1 in c:\\users\\15152\\ds-venv\\lib\\site-packages (from spacy<4.0,>=3.0->spacytextblob) (1.1.2)\n",
      "Requirement already satisfied: srsly<3.0.0,>=2.4.3 in c:\\users\\15152\\ds-venv\\lib\\site-packages (from spacy<4.0,>=3.0->spacytextblob) (2.4.8)\n",
      "Requirement already satisfied: catalogue<2.1.0,>=2.0.6 in c:\\users\\15152\\ds-venv\\lib\\site-packages (from spacy<4.0,>=3.0->spacytextblob) (2.0.10)\n",
      "Requirement already satisfied: weasel<0.4.0,>=0.1.0 in c:\\users\\15152\\ds-venv\\lib\\site-packages (from spacy<4.0,>=3.0->spacytextblob) (0.3.4)\n",
      "Requirement already satisfied: typer<0.10.0,>=0.3.0 in c:\\users\\15152\\ds-venv\\lib\\site-packages (from spacy<4.0,>=3.0->spacytextblob) (0.9.4)\n",
      "Requirement already satisfied: smart-open<7.0.0,>=5.2.1 in c:\\users\\15152\\ds-venv\\lib\\site-packages (from spacy<4.0,>=3.0->spacytextblob) (6.4.0)\n",
      "Requirement already satisfied: tqdm<5.0.0,>=4.38.0 in c:\\users\\15152\\ds-venv\\lib\\site-packages (from spacy<4.0,>=3.0->spacytextblob) (4.66.2)\n",
      "Requirement already satisfied: requests<3.0.0,>=2.13.0 in c:\\users\\15152\\ds-venv\\lib\\site-packages (from spacy<4.0,>=3.0->spacytextblob) (2.31.0)\n",
      "Requirement already satisfied: pydantic!=1.8,!=1.8.1,<3.0.0,>=1.7.4 in c:\\users\\15152\\ds-venv\\lib\\site-packages (from spacy<4.0,>=3.0->spacytextblob) (2.6.4)\n",
      "Requirement already satisfied: jinja2 in c:\\users\\15152\\ds-venv\\lib\\site-packages (from spacy<4.0,>=3.0->spacytextblob) (3.1.2)\n",
      "Requirement already satisfied: setuptools in c:\\users\\15152\\ds-venv\\lib\\site-packages (from spacy<4.0,>=3.0->spacytextblob) (65.5.0)\n",
      "Requirement already satisfied: packaging>=20.0 in c:\\users\\15152\\ds-venv\\lib\\site-packages (from spacy<4.0,>=3.0->spacytextblob) (23.2)\n",
      "Requirement already satisfied: langcodes<4.0.0,>=3.2.0 in c:\\users\\15152\\ds-venv\\lib\\site-packages (from spacy<4.0,>=3.0->spacytextblob) (3.3.0)\n",
      "Requirement already satisfied: numpy>=1.19.0 in c:\\users\\15152\\ds-venv\\lib\\site-packages (from spacy<4.0,>=3.0->spacytextblob) (1.26.1)\n",
      "Requirement already satisfied: nltk>=3.1 in c:\\users\\15152\\ds-venv\\lib\\site-packages (from textblob<0.16.0,>=0.15.3->spacytextblob) (3.8.1)\n",
      "Requirement already satisfied: click in c:\\users\\15152\\ds-venv\\lib\\site-packages (from nltk>=3.1->textblob<0.16.0,>=0.15.3->spacytextblob) (8.1.7)\n",
      "Requirement already satisfied: joblib in c:\\users\\15152\\ds-venv\\lib\\site-packages (from nltk>=3.1->textblob<0.16.0,>=0.15.3->spacytextblob) (1.3.2)\n",
      "Requirement already satisfied: regex>=2021.8.3 in c:\\users\\15152\\ds-venv\\lib\\site-packages (from nltk>=3.1->textblob<0.16.0,>=0.15.3->spacytextblob) (2023.12.25)\n",
      "Requirement already satisfied: annotated-types>=0.4.0 in c:\\users\\15152\\ds-venv\\lib\\site-packages (from pydantic!=1.8,!=1.8.1,<3.0.0,>=1.7.4->spacy<4.0,>=3.0->spacytextblob) (0.6.0)\n",
      "Requirement already satisfied: pydantic-core==2.16.3 in c:\\users\\15152\\ds-venv\\lib\\site-packages (from pydantic!=1.8,!=1.8.1,<3.0.0,>=1.7.4->spacy<4.0,>=3.0->spacytextblob) (2.16.3)\n",
      "Requirement already satisfied: typing-extensions>=4.6.1 in c:\\users\\15152\\ds-venv\\lib\\site-packages (from pydantic!=1.8,!=1.8.1,<3.0.0,>=1.7.4->spacy<4.0,>=3.0->spacytextblob) (4.8.0)\n",
      "Requirement already satisfied: charset-normalizer<4,>=2 in c:\\users\\15152\\ds-venv\\lib\\site-packages (from requests<3.0.0,>=2.13.0->spacy<4.0,>=3.0->spacytextblob) (3.3.0)\n",
      "Requirement already satisfied: idna<4,>=2.5 in c:\\users\\15152\\ds-venv\\lib\\site-packages (from requests<3.0.0,>=2.13.0->spacy<4.0,>=3.0->spacytextblob) (3.4)\n",
      "Requirement already satisfied: urllib3<3,>=1.21.1 in c:\\users\\15152\\ds-venv\\lib\\site-packages (from requests<3.0.0,>=2.13.0->spacy<4.0,>=3.0->spacytextblob) (2.0.7)\n",
      "Requirement already satisfied: certifi>=2017.4.17 in c:\\users\\15152\\ds-venv\\lib\\site-packages (from requests<3.0.0,>=2.13.0->spacy<4.0,>=3.0->spacytextblob) (2023.7.22)\n",
      "Requirement already satisfied: blis<0.8.0,>=0.7.8 in c:\\users\\15152\\ds-venv\\lib\\site-packages (from thinc<8.3.0,>=8.2.2->spacy<4.0,>=3.0->spacytextblob) (0.7.11)\n",
      "Requirement already satisfied: confection<1.0.0,>=0.0.1 in c:\\users\\15152\\ds-venv\\lib\\site-packages (from thinc<8.3.0,>=8.2.2->spacy<4.0,>=3.0->spacytextblob) (0.1.4)\n",
      "Requirement already satisfied: colorama in c:\\users\\15152\\ds-venv\\lib\\site-packages (from tqdm<5.0.0,>=4.38.0->spacy<4.0,>=3.0->spacytextblob) (0.4.6)\n",
      "Requirement already satisfied: cloudpathlib<0.17.0,>=0.7.0 in c:\\users\\15152\\ds-venv\\lib\\site-packages (from weasel<0.4.0,>=0.1.0->spacy<4.0,>=3.0->spacytextblob) (0.16.0)\n",
      "Requirement already satisfied: MarkupSafe>=2.0 in c:\\users\\15152\\ds-venv\\lib\\site-packages (from jinja2->spacy<4.0,>=3.0->spacytextblob) (2.1.3)\n"
     ]
    }
   ],
   "source": [
    "pip install spacytextblob"
   ]
  },
  {
   "cell_type": "code",
   "execution_count": 29,
   "metadata": {},
   "outputs": [
    {
     "name": "stdout",
     "output_type": "stream",
     "text": [
      "\u001b[38;5;2m✔ Download and installation successful\u001b[0m\n",
      "You can now load the package via spacy.load('en_core_web_sm')\n",
      "\u001b[38;5;3m⚠ Restart to reload dependencies\u001b[0m\n",
      "If you are in a Jupyter or Colab notebook, you may need to restart Python in\n",
      "order to load all the package's dependencies. You can do this by selecting the\n",
      "'Restart kernel' or 'Restart runtime' option.\n"
     ]
    }
   ],
   "source": [
    "import spacy.cli\n",
    "spacy.cli.download(\"en_core_web_sm\")"
   ]
  },
  {
   "cell_type": "code",
   "execution_count": 1,
   "metadata": {},
   "outputs": [
    {
     "name": "stdout",
     "output_type": "stream",
     "text": [
      "All prereqs installed.\n",
      "Package                   Version\n",
      "------------------------- ------------\n",
      "annotated-types           0.6.0\n",
      "anyio                     4.0.0\n",
      "argon2-cffi               23.1.0\n",
      "argon2-cffi-bindings      21.2.0\n",
      "arrow                     1.3.0\n",
      "asttokens                 2.4.0\n",
      "async-lru                 2.0.4\n",
      "attrs                     23.1.0\n",
      "Babel                     2.13.0\n",
      "backcall                  0.2.0\n",
      "beautifulsoup4            4.12.2\n",
      "bleach                    6.1.0\n",
      "blis                      0.7.11\n",
      "catalogue                 2.0.10\n",
      "certifi                   2023.7.22\n",
      "cffi                      1.16.0\n",
      "charset-normalizer        3.3.0\n",
      "click                     8.1.7\n",
      "cloudpathlib              0.16.0\n",
      "colorama                  0.4.6\n",
      "comm                      0.1.4\n",
      "confection                0.1.4\n",
      "contourpy                 1.1.1\n",
      "cycler                    0.12.1\n",
      "cymem                     2.0.8\n",
      "debugpy                   1.8.0\n",
      "decorator                 5.1.1\n",
      "defusedxml                0.7.1\n",
      "en-core-web-sm            3.7.1\n",
      "exceptiongroup            1.1.3\n",
      "executing                 2.0.0\n",
      "fastjsonschema            2.18.1\n",
      "fonttools                 4.43.1\n",
      "fqdn                      1.5.1\n",
      "idna                      3.4\n",
      "ipykernel                 6.25.2\n",
      "ipython                   8.16.1\n",
      "isoduration               20.11.0\n",
      "jedi                      0.19.1\n",
      "Jinja2                    3.1.2\n",
      "joblib                    1.3.2\n",
      "json5                     0.9.14\n",
      "jsonpointer               2.4\n",
      "jsonschema                4.19.1\n",
      "jsonschema-specifications 2023.7.1\n",
      "jupyter_client            8.4.0\n",
      "jupyter_core              5.4.0\n",
      "jupyter-events            0.8.0\n",
      "jupyter-lsp               2.2.0\n",
      "jupyter_server            2.8.0\n",
      "jupyter_server_terminals  0.4.4\n",
      "jupyterlab                4.0.7\n",
      "jupyterlab-pygments       0.2.2\n",
      "jupyterlab_server         2.25.0\n",
      "kiwisolver                1.4.5\n",
      "langcodes                 3.3.0\n",
      "MarkupSafe                2.1.3\n",
      "matplotlib                3.8.0\n",
      "matplotlib-inline         0.1.6\n",
      "mistune                   3.0.2\n",
      "murmurhash                1.0.10\n",
      "nbclient                  0.8.0\n",
      "nbconvert                 7.9.2\n",
      "nbformat                  5.9.2\n",
      "nest-asyncio              1.5.8\n",
      "nltk                      3.8.1\n",
      "notebook_shim             0.2.3\n",
      "numpy                     1.26.1\n",
      "overrides                 7.4.0\n",
      "packaging                 23.2\n",
      "pandas                    2.1.1\n",
      "pandocfilters             1.5.0\n",
      "parso                     0.8.3\n",
      "pickleshare               0.7.5\n",
      "Pillow                    10.1.0\n",
      "pip                       24.0\n",
      "platformdirs              3.11.0\n",
      "preshed                   3.0.9\n",
      "prometheus-client         0.17.1\n",
      "prompt-toolkit            3.0.39\n",
      "psutil                    5.9.6\n",
      "pure-eval                 0.2.2\n",
      "pycparser                 2.21\n",
      "pydantic                  2.6.4\n",
      "pydantic_core             2.16.3\n",
      "Pygments                  2.16.1\n",
      "pyparsing                 3.1.1\n",
      "python-dateutil           2.8.2\n",
      "python-json-logger        2.0.7\n",
      "pytz                      2023.3.post1\n",
      "pywin32                   306\n",
      "pywinpty                  2.0.12\n",
      "PyYAML                    6.0.1\n",
      "pyzmq                     25.1.1\n",
      "referencing               0.30.2\n",
      "regex                     2023.12.25\n",
      "requests                  2.31.0\n",
      "rfc3339-validator         0.1.4\n",
      "rfc3986-validator         0.1.1\n",
      "rpds-py                   0.10.6\n",
      "scikit-learn              1.3.1\n",
      "scipy                     1.11.3\n",
      "Send2Trash                1.8.2\n",
      "setuptools                65.5.0\n",
      "six                       1.16.0\n",
      "sklearn                   0.0.post11\n",
      "smart-open                6.4.0\n",
      "sniffio                   1.3.0\n",
      "soupsieve                 2.5\n",
      "spacy                     3.7.4\n",
      "spacy-legacy              3.0.12\n",
      "spacy-loggers             1.0.5\n",
      "spacytextblob             4.0.0\n",
      "srsly                     2.4.8\n",
      "stack-data                0.6.3\n",
      "terminado                 0.17.1\n",
      "textblob                  0.15.3\n",
      "thinc                     8.2.3\n",
      "threadpoolctl             3.2.0\n",
      "tinycss2                  1.2.1\n",
      "tomli                     2.0.1\n",
      "tornado                   6.3.3\n",
      "tqdm                      4.66.2\n",
      "traitlets                 5.11.2\n",
      "typer                     0.9.4\n",
      "types-python-dateutil     2.8.19.14\n",
      "typing_extensions         4.8.0\n",
      "tzdata                    2023.3\n",
      "uri-template              1.3.0\n",
      "urllib3                   2.0.7\n",
      "wasabi                    1.1.2\n",
      "wcwidth                   0.2.8\n",
      "weasel                    0.3.4\n",
      "webcolors                 1.13\n",
      "webencodings              0.5.1\n",
      "websocket-client          1.6.4\n"
     ]
    }
   ],
   "source": [
    "# Create and activate a Python virtual environment. \n",
    "# Before starting the project, try all these imports FIRST\n",
    "# Address any errors you get running this code cell \n",
    "# by installing the necessary packages into your active Python environment.\n",
    "# Try to resolve issues using your materials and the web.\n",
    "# If that doesn't work, ask for help in the discussion forums.\n",
    "# You can't complete the exercises until you import these - start early! \n",
    "# We also import json and pickle (included in the Python Standard Library).\n",
    "\n",
    "import json\n",
    "import pickle\n",
    "\n",
    "import requests\n",
    "import spacy\n",
    "from spacytextblob.spacytextblob import SpacyTextBlob\n",
    "\n",
    "print('All prereqs installed.')\n",
    "!pip list"
   ]
  },
  {
   "cell_type": "markdown",
   "metadata": {},
   "source": [
    "1. The following code accesses the [lyrics.ovh](https://lyricsovh.docs.apiary.io/#reference/0/lyrics-of-a-song/search) public api, searches for the lyrics of a song, and stores it in a dictionary object.  Write the resulting json to a file (either a JSON file or a pickle file; you choose). You will read in the contents of this file for future questions so we do not need to frequently access the API."
   ]
  },
  {
   "cell_type": "markdown",
   "metadata": {},
   "source": [
    "### Question #1 Code and Answer"
   ]
  },
  {
   "cell_type": "code",
   "execution_count": 2,
   "metadata": {},
   "outputs": [
    {
     "name": "stdout",
     "output_type": "stream",
     "text": [
      "JSON data saved to JSON file\n"
     ]
    }
   ],
   "source": [
    "import requests\n",
    "import json\n",
    "\n",
    "#Request to API to get song lyrics:\n",
    "result = json.loads(requests.get('https://api.lyrics.ovh/v1/coldplay/yellow').text)\n",
    "\n",
    "#Write resulting json to a file\n",
    "with open('lyrics_song.json', 'w') as file:\n",
    "    json.dump(result, file)\n",
    "\n",
    "print(\"JSON data saved to JSON file\")"
   ]
  },
  {
   "cell_type": "markdown",
   "metadata": {},
   "source": [
    "2. Read in the contents of your file.  Print the lyrics of the song (not the entire dictionary!) and use spaCyTextBlob to perform sentiment analysis on the lyrics.  Print the polarity score of the sentiment analysis.  Given that the range of the polarity score is `[-1.0,1.0]` which corresponds to how positive or negative the text in question is, do you think the lyrics have a more positive or negative connotaion?  Answer this question in a comment in your code cell."
   ]
  },
  {
   "cell_type": "markdown",
   "metadata": {},
   "source": [
    "### Question #2 Code and Answer"
   ]
  },
  {
   "cell_type": "code",
   "execution_count": 4,
   "metadata": {},
   "outputs": [
    {
     "name": "stdout",
     "output_type": "stream",
     "text": [
      "Lyrics of the song:\n",
      "Paroles de la chanson Yellow par Coldplay\n",
      "[Chris Martin]\n",
      "Look at the stars\n",
      "Look how they shine for you\n",
      "And everything you do\n",
      "Yeah, they were all yellow\n",
      "I came along\n",
      "I wrote a song for you\n",
      "And all the things you do\n",
      "And it was called \"Yellow\"\n",
      "So then I took my turn\n",
      "Oh, what a thing to have done\n",
      "And it was all yellow\n",
      "\n",
      "[Chris, Jonny & Will]\n",
      "(Aah) Your skin, oh yeah, your skin and bones\n",
      "(Ooh) Turn into something beautiful\n",
      "\n",
      "(Aah) You know, you know I love you so\n",
      "You know I love you so\n",
      "\n",
      "[Chris Martin]\n",
      "I swam across\n",
      "I jumped across for you\n",
      "Oh, what a thing to do\n",
      "'Cause you were all yellow\n",
      "I drew a line\n",
      "I drew a line for you\n",
      "Oh, what a thing to do\n",
      "And it was all yellow\n",
      "\n",
      "[Chris, Jonny & Will]\n",
      "(Aah) Your skin, oh yeah, your skin and bones\n",
      "(Ooh) Turn into something beautiful\n",
      "(Aah) And you know\n",
      "For you, I'd bleed myself dry\n",
      "\n",
      "For you, I'd bleed myself dry\n",
      "\n",
      "[ Chris Martin]\n",
      "It's true, look how they shine for you\n",
      "Look how they shine for you\n",
      "Look how they shine for\n",
      "Look how they shine for you\n",
      "Look how they shine for you\n",
      "Look how they shine\n",
      "\n",
      "[ Chris Martin]\n",
      "Look at the stars\n",
      "Look how they shine for you\n",
      "And all the things that you do\n",
      "\n",
      "Polarity score of the sentiment analysis: 0.22435897435897442\n"
     ]
    }
   ],
   "source": [
    "import json\n",
    "import spacy\n",
    "from spacytextblob.spacytextblob import SpacyTextBlob\n",
    "\n",
    "# Loading the spaCy model\n",
    "nlp = spacy.load('en_core_web_sm')\n",
    "\n",
    "# Adding the SpacyTextBlob component\n",
    "nlp.add_pipe('spacytextblob')\n",
    "\n",
    "# Reading in the contents of the JSON file\n",
    "with open('lyrics_song.json', 'r') as file:\n",
    "    lyrics_song = json.load(file)\n",
    "\n",
    "# Extracting the lyrics from the dictionary\n",
    "lyrics = lyrics_song['lyrics']\n",
    "\n",
    "# Processing the lyrics using spaCy\n",
    "doc = nlp(lyrics)\n",
    "\n",
    "# Performing sentiment analysis\n",
    "sentiment_score = doc._.polarity\n",
    "\n",
    "# Printing the lyrics of the song\n",
    "print(\"Lyrics of the song:\")\n",
    "print(lyrics)\n",
    "print()\n",
    "\n",
    "# Print the polarity score of the sentiment analysis\n",
    "print(\"Polarity score of the sentiment analysis:\", sentiment_score)\n",
    "\n",
    "# Answer to question: \"Do you think the lyrics have a more positive or negative connotation?\"\n",
    "# The lyrics have a sentiment analysis score of 0.224, which shows a positive connotation (range from -1 to 1)."
   ]
  },
  {
   "cell_type": "markdown",
   "metadata": {},
   "source": [
    "3. Write a function that takes an artist, song, and filename, accesses the lyrics.ovh api to get the song lyrics, and writes the results to the specified filename.  Test this function by getting the lyrics to any four songs of your choice and storing them in different files."
   ]
  },
  {
   "cell_type": "markdown",
   "metadata": {},
   "source": [
    "### Question #3 Code and Answer:"
   ]
  },
  {
   "cell_type": "code",
   "execution_count": 14,
   "metadata": {},
   "outputs": [
    {
     "name": "stdout",
     "output_type": "stream",
     "text": [
      "Lyrics for 'yellow' by 'coldplay' written to 'yellow_lyrics.json' sucessfully.\n",
      "Lyrics for 'enter sandman' by 'metallica' written to 'enter_sandman_lyrics.json' sucessfully.\n",
      "Lyrics for 'nothing' by 'the script' written to 'nothing_lyrics.json' sucessfully.\n",
      "Lyrics for 'shake it off' by 'taylor swift' written to 'shake_it_off_lyrics.json' sucessfully.\n"
     ]
    }
   ],
   "source": [
    "def get_song_lyrics(artist, song, filename):\n",
    "    api_url = f\"https://api.lyrics.ovh/v1/{artist}/{song}\" # Creating API URL\n",
    "    response = requests.get(api_url) # Making the API request\n",
    "    if response.status_code == 200:  # Check to see if response was successful\n",
    "        data = response.json()  # Parsing the json reponse\n",
    "        lyrics = data.get('lyrics') # Extracting the lyrics\n",
    "        with open(filename, 'w') as file:  # Writing the lyrics to a specific file\n",
    "            file.write(lyrics)\n",
    "\n",
    "        print(f\"Lyrics for '{song}' by '{artist}' written to '{filename}' sucessfully.\")\n",
    "    else:\n",
    "        print(\"Lyrics not retrieved successfully for '{song}' by '{artist}' in the API.\")\n",
    "\n",
    "\n",
    "get_song_lyrics(\"coldplay\", \"yellow\", \"yellow_lyrics.json\")\n",
    "get_song_lyrics(\"metallica\", \"enter sandman\", \"enter_sandman_lyrics.json\")\n",
    "get_song_lyrics(\"the script\", \"nothing\", \"nothing_lyrics.json\")\n",
    "get_song_lyrics(\"taylor swift\", \"shake it off\", \"shake_it_off_lyrics.json\")\n"
   ]
  },
  {
   "cell_type": "markdown",
   "metadata": {},
   "source": [
    "4. Write a function that takes the name of a file that contains song lyrics, loads the file, performs sentiment analysis, and returns the polarity score.  Use this function to print the polarity scores (with the name of the song) of the three files you created in question 3.  Does the reported polarity match your understanding of the song's lyrics? Why or why not do you think that might be?  Answer the questions in either a comment in the code cell or a markdown cell under the code cell."
   ]
  },
  {
   "cell_type": "code",
   "execution_count": null,
   "metadata": {},
   "outputs": [],
   "source": []
  }
 ],
 "metadata": {
  "kernelspec": {
   "display_name": "Python 3",
   "language": "python",
   "name": "python3"
  },
  "language_info": {
   "codemirror_mode": {
    "name": "ipython",
    "version": 3
   },
   "file_extension": ".py",
   "mimetype": "text/x-python",
   "name": "python",
   "nbconvert_exporter": "python",
   "pygments_lexer": "ipython3",
   "version": "3.10.11"
  }
 },
 "nbformat": 4,
 "nbformat_minor": 4
}
